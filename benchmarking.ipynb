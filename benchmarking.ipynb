{
 "cells": [
  {
   "cell_type": "code",
   "execution_count": 2,
   "metadata": {},
   "outputs": [],
   "source": [
    "from dwave.system.samplers import DWaveSampler\n",
    "from dwave.system.composites import EmbeddingComposite\n",
    "import dimod\n",
    "from collections import defaultdict\n",
    "import networkx as nx\n",
    "from itertools import combinations\n",
    "import datetime\n",
    "import time"
   ]
  },
  {
   "cell_type": "code",
   "execution_count": 3,
   "metadata": {},
   "outputs": [],
   "source": [
    "def get_model(nodes, edges, seed=0.2, gamma=80):\n",
    "     \n",
    "    G = nx.gnm_random_graph(nodes,edges,seed)\n",
    "\n",
    "    Q = defaultdict(int)\n",
    "\n",
    "    # Fill in Q matrix\n",
    "    for u, v in G.edges:\n",
    "        Q[(u,u)] += 1\n",
    "        Q[(v,v)] += 1\n",
    "        Q[(u,v)] += -2\n",
    "\n",
    "    for i in G.nodes:\n",
    "        Q[(i,i)] += gamma*(1-len(G.nodes))\n",
    "\n",
    "    for i, j in combinations(G.nodes, 2):\n",
    "        Q[(i,j)] += 2*gamma\n",
    "    \n",
    "    return G, Q"
   ]
  },
  {
   "cell_type": "code",
   "execution_count": 6,
   "metadata": {},
   "outputs": [
    {
     "name": "stdout",
     "output_type": "stream",
     "text": [
      "87.51672768592834  26.066  1.383  27.448\n",
      "46.415823459625244  26.076  1.359  27.435\n",
      "39.49354076385498  26.061  1.334  27.395\n",
      "54.056803703308105  26.063  1.108  27.171\n",
      "135.6921021938324  26.059  1.257  27.316\n",
      "35.98463296890259  26.052  1.435  27.487\n",
      "43.07421326637268  26.062  1.293  27.355\n",
      "89.68975591659546  26.064  1.098  27.162\n",
      "72.88030862808228  26.052  1.51  27.562\n",
      "38.15349006652832  26.057  1.093  27.15\n"
     ]
    }
   ],
   "source": [
    "nodes = 70\n",
    "edges = round(nodes * (nodes-1)/2 * 0.2)\n",
    "seed = 2\n",
    "prob=0.2\n",
    "annealing_time=10\n",
    "\n",
    "for i in range(10):\n",
    "    graph, qubo_matrix = get_model(nodes, edges, seed=seed)\n",
    "\n",
    "    sampler = EmbeddingComposite(DWaveSampler(solver={'topology__type': 'pegasus'}))\n",
    "    \n",
    "    start = time.time()\n",
    "    task = sampler.sample_qubo(qubo_matrix,annealing_time=annealing_time,num_reads=10)\n",
    "    end = time.time()\n",
    "    runtime = end - start\n",
    "    \n",
    "    QpuSamplingTime = task.info['timing']['qpu_sampling_time']\n",
    "    QpuAccessTime = task.info['timing']['qpu_access_time']\n",
    "    QpuProgrammingTime = task.info['timing']['qpu_programming_time']\n",
    "\n",
    "    print('{}  {}  {}  {}'.format(runtime,QpuProgrammingTime/1000,QpuSamplingTime/1000,QpuAccessTime/1000))\n",
    "\n"
   ]
  },
  {
   "cell_type": "code",
   "execution_count": 12,
   "metadata": {},
   "outputs": [
    {
     "data": {
      "text/plain": [
       "{'timing': {'qpu_sampling_time': 229,\n",
       "  'qpu_anneal_time_per_sample': 10,\n",
       "  'qpu_readout_time_per_sample': 198,\n",
       "  'qpu_access_time': 11171,\n",
       "  'qpu_access_overhead_time': 1639,\n",
       "  'qpu_programming_time': 10942,\n",
       "  'qpu_delay_time_per_sample': 21,\n",
       "  'total_post_processing_time': 467,\n",
       "  'post_processing_overhead_time': 467,\n",
       "  'total_real_time': 11171,\n",
       "  'run_time_chip': 229,\n",
       "  'anneal_time_per_run': 10,\n",
       "  'readout_time_per_run': 198},\n",
       " 'problem_id': 'cf020838-53fc-4626-9469-45990478f68f'}"
      ]
     },
     "execution_count": 12,
     "metadata": {},
     "output_type": "execute_result"
    }
   ],
   "source": [
    "0.07389092445373535  10.942  0.229  11.171\n",
    "0.12908601760864258  10.914  2.289  13.204"
   ]
  },
  {
   "cell_type": "code",
   "execution_count": 16,
   "metadata": {},
   "outputs": [
    {
     "data": {
      "text/plain": [
       "{'timing': {'qpu_sampling_time': 2289,\n",
       "  'qpu_anneal_time_per_sample': 10,\n",
       "  'qpu_readout_time_per_sample': 198,\n",
       "  'qpu_access_time': 13204,\n",
       "  'qpu_access_overhead_time': 1578,\n",
       "  'qpu_programming_time': 10914,\n",
       "  'qpu_delay_time_per_sample': 21,\n",
       "  'total_post_processing_time': 60,\n",
       "  'post_processing_overhead_time': 60,\n",
       "  'total_real_time': 13204,\n",
       "  'run_time_chip': 2289,\n",
       "  'anneal_time_per_run': 10,\n",
       "  'readout_time_per_run': 198},\n",
       " 'problem_id': '5c9de0d2-1e11-4998-a73f-cfd98d41cbfe'}"
      ]
     },
     "execution_count": 16,
     "metadata": {},
     "output_type": "execute_result"
    }
   ],
   "source": [
    "task.info"
   ]
  },
  {
   "cell_type": "code",
   "execution_count": null,
   "metadata": {},
   "outputs": [],
   "source": []
  }
 ],
 "metadata": {
  "kernelspec": {
   "display_name": "Python 3",
   "language": "python",
   "name": "python3"
  },
  "language_info": {
   "codemirror_mode": {
    "name": "ipython",
    "version": 3
   },
   "file_extension": ".py",
   "mimetype": "text/x-python",
   "name": "python",
   "nbconvert_exporter": "python",
   "pygments_lexer": "ipython3",
   "version": "3.6.7"
  },
  "toc": {
   "base_numbering": 1,
   "nav_menu": {},
   "number_sections": true,
   "sideBar": true,
   "skip_h1_title": false,
   "title_cell": "Table of Contents",
   "title_sidebar": "Contents",
   "toc_cell": false,
   "toc_position": {},
   "toc_section_display": true,
   "toc_window_display": false
  }
 },
 "nbformat": 4,
 "nbformat_minor": 2
}
